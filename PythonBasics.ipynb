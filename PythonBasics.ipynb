{
  "nbformat": 4,
  "nbformat_minor": 0,
  "metadata": {
    "colab": {
      "provenance": []
    },
    "kernelspec": {
      "name": "python3",
      "display_name": "Python 3"
    },
    "language_info": {
      "name": "python"
    }
  },
  "cells": [
    {
      "cell_type": "markdown",
      "source": [
        "1. What is Python, and why is it popular?\n",
        "   = Python is a high-level, easy-to-read programming language known for its simplicity and versatility. It’s popular because it’s beginner-friendly, has a huge ecosystem of libraries for web development, data science, and automation, and is widely used in many industries. Python’s clean syntax, cross-platform support, and large community contribute to its widespread adoption.\n",
        "\n",
        " 2.What is an interpreter in Python?\n",
        "   =An interpreter in Python is a program that reads and executes Python code line-by-line. Unlike compiled languages, where the code is translated into machine code before execution, the interpreter translates Python code into machine-readable instructions during runtime, making it easy to test and debug code interactively.\n",
        "\n",
        "3.What are pre-defined keywords in Python?\n",
        "  =Pre-defined keywords in Python are reserved words that have a special meaning and cannot be used as identifiers (like variable names or function names). These keywords define the structure and syntax of the language.\n",
        "  there are 49 keywords in python.\n",
        "\n",
        "Examples of Python keywords include:\n",
        "\n",
        "if\n",
        "\n",
        "else\n",
        "\n",
        "for\n",
        "\n",
        "while\n",
        "\n",
        "def\n",
        "\n",
        "class\n",
        "\n",
        "import\n",
        "\n",
        "try\n",
        "\n",
        "except\n",
        "\n",
        "return\n",
        "\n",
        "4.Can keywords be used as variable names?\n",
        "  =No, keywords cannot be used as variable names in Python, as they are reserved for specific purposes in the language's syntax. Using them as variable names will result in a syntax error.\n",
        "5.What is mutability in Python?\n",
        "  =Objects and container whose state or value can be changed after they are created called as mutable objects.  \n",
        "\n",
        "6.Why are lists mutable, but tuples are immutable?\n",
        "  =lists are mutable because their contents can be changed, while tuples are immutable, meaning their contents cannot be altered once created. This difference ensures lists are flexible, and tuples are more efficient and can be used as dictionary keys.\n",
        "\n",
        "7.What is the difference between “==” and “is” operators in Python?\n",
        "  = \"==\" checks value equality; it compares if the values of two objects are the same.\n",
        "\n",
        "  \"is\" checks identity equality; it compares if two references point to the same object in memory.\n",
        "\n",
        "\n",
        "  a = [1, 2, 3]\n",
        "  b = [1, 2, 3]\n",
        "  print(a == b)  # True (values are the same)\n",
        "  print(a is b)  # False (different objects in memory)\n",
        "\n",
        "8.What are logical operators in Python?  \n",
        "  = and: Returns True if both conditions are true.\n",
        "\n",
        "  or: Returns True if at least one condition is true.\n",
        "\n",
        " not: Reverses the logical state of its condition.\n",
        " They are used to combine conditions in expressions.\n",
        "\n",
        "9.What is type casting in Python?\n",
        " =Converting one data type into another data type is called typecasting.\n",
        "\n",
        "10.What is the difference between implicit and explicit type casting?\n",
        "  =Implicit type casting happens automatically by Python, converting a smaller data type to a larger one (e.g., int to float).\n",
        "  Explicit type casting (or type conversion) requires the programmer to manually convert data types using functions like int(), float(), etc.\n",
        "\n",
        "11.What is the purpose of conditional statements in Python?\n",
        "  =Conditional statements in Python (like if, elif, and else) are used to control the flow of a program based on conditions. They allow the program to execute different code blocks depending on whether a condition is True or False.\n",
        "\n",
        "12.How does the elif statement work?\n",
        "  =The elif statement in Python allows you to check multiple conditions sequentially. If the condition in if is False, Python checks the elif condition. If elif is True, its block of code runs; otherwise, it moves to the next elif or else block.\n",
        "\n",
        "13.What is the difference between for and while loops?  \n",
        "  =for loop: Iterates over a sequence (like a list, range, or string) and repeats the code block for each item.\n",
        "\n",
        "  while loop: Repeats the code block as long as a given condition is True.\n",
        "\n",
        "14.Describe a scenario where a while loop is more suitable than a for loop?\n",
        "  = A while loop is more suitable when the number of iterations is unknown and depends on a condition being met. For example, waiting for user input until they enter a valid response\n",
        "  Ex:user_input = \"\"\n",
        "  while user_input != \"yes\":\n",
        "    user_input = input(\"Do you want to continue? (yes to exit): \")\n"
      ],
      "metadata": {
        "id": "C5gMknF6oUtv"
      }
    },
    {
      "cell_type": "markdown",
      "source": [],
      "metadata": {
        "id": "wFWmhgwBtYBM"
      }
    },
    {
      "cell_type": "code",
      "source": [
        "#1.Write a Python program to print \"Hello, World!\n",
        "\n",
        "print(\"Hello World\")"
      ],
      "metadata": {
        "colab": {
          "base_uri": "https://localhost:8080/"
        },
        "id": "89mtXdtZtgo0",
        "outputId": "ca70b4e4-3d65-4870-ac87-f3c279a57cf8"
      },
      "execution_count": 15,
      "outputs": [
        {
          "output_type": "stream",
          "name": "stdout",
          "text": [
            "Hello World\n"
          ]
        }
      ]
    },
    {
      "cell_type": "code",
      "source": [
        "#2.Write a Python program that displays your name and age.\n",
        "\n",
        "Name=\"Vishnu\"\n",
        "Age=21\n",
        "print(Name)\n",
        "print(Age)"
      ],
      "metadata": {
        "colab": {
          "base_uri": "https://localhost:8080/"
        },
        "id": "LwXXubNEt5GE",
        "outputId": "85ac86ef-227a-4ea4-b240-32c154d40255"
      },
      "execution_count": 16,
      "outputs": [
        {
          "output_type": "stream",
          "name": "stdout",
          "text": [
            "Vishnu\n",
            "21\n"
          ]
        }
      ]
    },
    {
      "cell_type": "code",
      "source": [
        "#3.Write code to print all the pre-defined keywords in Python using the keyword library\n",
        "\n",
        "import keyword\n",
        "\n",
        "print(keyword.kwlist)\n",
        "\n"
      ],
      "metadata": {
        "colab": {
          "base_uri": "https://localhost:8080/"
        },
        "id": "HymMhuhVuVXB",
        "outputId": "1958091f-d257-4685-b54d-5a6bcdc3fa34"
      },
      "execution_count": 17,
      "outputs": [
        {
          "output_type": "stream",
          "name": "stdout",
          "text": [
            "['False', 'None', 'True', 'and', 'as', 'assert', 'async', 'await', 'break', 'class', 'continue', 'def', 'del', 'elif', 'else', 'except', 'finally', 'for', 'from', 'global', 'if', 'import', 'in', 'is', 'lambda', 'nonlocal', 'not', 'or', 'pass', 'raise', 'return', 'try', 'while', 'with', 'yield']\n"
          ]
        }
      ]
    },
    {
      "cell_type": "code",
      "source": [
        "#4.Write a program that checks if a given word is a Python keyword.\n",
        "\n",
        "Word=input(\"Enter the word:\")\n",
        "if Word==\"python\":\n",
        "   print(\"The word is python\")\n",
        "else:\n",
        "   print(\"The word is not python\")\n",
        "\n"
      ],
      "metadata": {
        "colab": {
          "base_uri": "https://localhost:8080/"
        },
        "id": "gi9AZ3lGujzo",
        "outputId": "361dce58-4903-48e3-8e77-56fa3c26c777"
      },
      "execution_count": 18,
      "outputs": [
        {
          "output_type": "stream",
          "name": "stdout",
          "text": [
            "Enter the word:python\n",
            "The word is python\n"
          ]
        }
      ]
    },
    {
      "cell_type": "code",
      "source": [
        "#5.Create a list and tuple in Python, and demonstrate how attempting to change an element works differently\n",
        "#for each.\n",
        "\n",
        "my_list = [1, 2, 3]\n",
        "print(\"Original List:\", my_list)\n",
        "\n",
        "my_list[1] = 99\n",
        "print(\"Modified List:\", my_list)\n",
        "\n",
        "my_tuple = (1, 2, 3)\n",
        "print(\"\\nOriginal Tuple:\", my_tuple)\n",
        "\n"
      ],
      "metadata": {
        "colab": {
          "base_uri": "https://localhost:8080/"
        },
        "id": "21vR-PQZvE1z",
        "outputId": "4bac7ee4-ed85-4522-8195-b489142a5318"
      },
      "execution_count": 19,
      "outputs": [
        {
          "output_type": "stream",
          "name": "stdout",
          "text": [
            "Original List: [1, 2, 3]\n",
            "Modified List: [1, 99, 3]\n",
            "\n",
            "Original Tuple: (1, 2, 3)\n"
          ]
        }
      ]
    },
    {
      "cell_type": "code",
      "source": [
        "#6.Write a function to demonstrate the behavior of mutable and immutable arguments.\n",
        "\n",
        "def modify_objects(mutable_arg, immutable_arg):\n",
        "\n",
        "    mutable_arg.append(100)\n",
        "    print(\"Modified Mutable Argument:\", mutable_arg)\n",
        "\n",
        "\n",
        "    immutable_arg += 10\n",
        "    print(\"Modified Immutable Argument:\", immutable_arg)\n",
        "\n",
        "my_list = [1, 2, 3]\n",
        "my_int = 50\n",
        "\n",
        "print(\"Before function call:\")\n",
        "print(\"my_list:\", my_list)\n",
        "print(\"my_int:\", my_int)\n",
        "\n",
        "modify_objects(my_list, my_int)\n",
        "\n",
        "print(\"\\nAfter function call:\")\n",
        "print(\"my_list:\", my_list)\n",
        "print(\"my_int:\", my_int)\n"
      ],
      "metadata": {
        "colab": {
          "base_uri": "https://localhost:8080/"
        },
        "id": "kLsEBLYiwdHb",
        "outputId": "3a007027-8dfc-4fd0-9eb3-91206acc47b3"
      },
      "execution_count": 20,
      "outputs": [
        {
          "output_type": "stream",
          "name": "stdout",
          "text": [
            "Before function call:\n",
            "my_list: [1, 2, 3]\n",
            "my_int: 50\n",
            "Modified Mutable Argument: [1, 2, 3, 100]\n",
            "Modified Immutable Argument: 60\n",
            "\n",
            "After function call:\n",
            "my_list: [1, 2, 3, 100]\n",
            "my_int: 50\n"
          ]
        }
      ]
    },
    {
      "cell_type": "code",
      "source": [
        "#7. Write a program that performs basic arithmetic operations on two user-input numbers.\n",
        "\n",
        "num1=5\n",
        "num2=6\n",
        "print(\"addition=\",num1+num2)\n",
        "print(\"substraction=\",num1-num2)\n",
        "print(\"multiplication=\",num1*num2)\n",
        "print(\"Division=\",num1/num2)\n",
        "print(\"floor division=\",num1//num2)\n",
        "print(\"modules=\",num1%num2)\n",
        "print(\"Exponential=\",num1**num2)\n"
      ],
      "metadata": {
        "colab": {
          "base_uri": "https://localhost:8080/"
        },
        "id": "hPRKx5q1xSXz",
        "outputId": "5aab2b30-c101-49d3-a288-43db5542c1c6"
      },
      "execution_count": 21,
      "outputs": [
        {
          "output_type": "stream",
          "name": "stdout",
          "text": [
            "addition= 11\n",
            "substraction= -1\n",
            "multiplication= 30\n",
            "Division= 0.8333333333333334\n",
            "floor division= 0\n",
            "modules= 5\n",
            "Exponential= 15625\n"
          ]
        }
      ]
    },
    {
      "cell_type": "code",
      "source": [
        "#8.Write a program to demonstrate the use of logical operators.\n",
        "\n",
        "# Taking two user inputs\n",
        "x = int(input(\"Enter the first number: \"))\n",
        "y = int(input(\"Enter the second number: \"))\n",
        "\n",
        "# and operator\n",
        "if x > 0 and y > 0:\n",
        "    print(f\"Both numbers are positive: {x} and {y}\")\n",
        "else:\n",
        "    print(f\"At least one of the numbers is not positive.\")\n",
        "\n",
        "# or operator\n",
        "if x > 0 or y > 0:\n",
        "    print(f\"At least one number is positive: {x} or {y}\")\n",
        "else:\n",
        "    print(\"Neither number is positive.\")\n",
        "\n",
        "# not operator\n",
        "if not(x == y):\n",
        "    print(f\"The numbers are not equal: {x} and {y}\")\n",
        "else:\n",
        "    print(f\"The numbers are equal: {x} and {y}\")\n"
      ],
      "metadata": {
        "colab": {
          "base_uri": "https://localhost:8080/"
        },
        "id": "4nm24vniyDNF",
        "outputId": "94624f1c-beac-40ce-9cc1-a2005bef6cb1"
      },
      "execution_count": 22,
      "outputs": [
        {
          "output_type": "stream",
          "name": "stdout",
          "text": [
            "Enter the first number: 6\n",
            "Enter the second number: 8\n",
            "Both numbers are positive: 6 and 8\n",
            "At least one number is positive: 6 or 8\n",
            "The numbers are not equal: 6 and 8\n"
          ]
        }
      ]
    },
    {
      "cell_type": "code",
      "source": [
        "#9. Write a Python program to convert user input from string to integer, float, and boolean types.\n",
        "\n",
        "user_input = input(\"Enter a value: \")\n",
        "\n",
        "integer_value = int(user_input)\n",
        "float_value = float(user_input)\n",
        "boolean_value = user_input.lower() in ['true', '1', 'yes']\n",
        "\n",
        "print(\"\\nConverted Values:\")\n",
        "print(f\"Integer: {integer_value}\")\n",
        "print(f\"Float: {float_value}\")\n",
        "print(f\"Boolean: {boolean_value}\")\n",
        "\n"
      ],
      "metadata": {
        "colab": {
          "base_uri": "https://localhost:8080/"
        },
        "id": "Mv1PMqsxyuT0",
        "outputId": "9898eb7f-dc13-47cd-966e-49c5c12b311b"
      },
      "execution_count": 23,
      "outputs": [
        {
          "output_type": "stream",
          "name": "stdout",
          "text": [
            "Enter a value: 1\n",
            "\n",
            "Converted Values:\n",
            "Integer: 1\n",
            "Float: 1.0\n",
            "Boolean: True\n"
          ]
        }
      ]
    },
    {
      "cell_type": "code",
      "source": [
        "#10. Write code to demonstrate type casting with list elements.\n",
        "\n",
        "\n",
        "my_list = [\"10\", \"20.5\", \"30\", 40]\n",
        "\n",
        "\n",
        "my_list[0] = int(my_list[0])\n",
        "my_list[1] = float(my_list[1])\n",
        "my_list[2] = int(my_list[2])\n",
        "\n",
        "print(\"Modified List with type casting:\")\n",
        "print(my_list)\n",
        "\n",
        "my_list[1] = int(my_list[1])\n",
        "print(\"\\nList after casting float to integer:\")\n",
        "print(my_list)\n"
      ],
      "metadata": {
        "colab": {
          "base_uri": "https://localhost:8080/"
        },
        "id": "jJu3C-JOzK3g",
        "outputId": "3776c297-c8f4-41b1-b7a7-53d6ee0614c9"
      },
      "execution_count": 24,
      "outputs": [
        {
          "output_type": "stream",
          "name": "stdout",
          "text": [
            "Modified List with type casting:\n",
            "[10, 20.5, 30, 40]\n",
            "\n",
            "List after casting float to integer:\n",
            "[10, 20, 30, 40]\n"
          ]
        }
      ]
    },
    {
      "cell_type": "code",
      "source": [
        "#11.Write a program that checks if a number is positive, negative, or zero.\n",
        "\n",
        "number = float(input(\"Enter a number: \"))\n",
        "\n",
        "if number > 0:\n",
        "    print(f\"{number} is a positive number.\")\n",
        "elif number < 0:\n",
        "    print(f\"{number} is a negative number.\")\n",
        "else:\n",
        "    print(f\"{number} is zero.\")\n"
      ],
      "metadata": {
        "colab": {
          "base_uri": "https://localhost:8080/"
        },
        "id": "bab2d-eKzo26",
        "outputId": "53e5c267-9619-4dc0-a2da-61da8dc185c2"
      },
      "execution_count": 14,
      "outputs": [
        {
          "output_type": "stream",
          "name": "stdout",
          "text": [
            "Enter a number: 1\n",
            "1.0 is a positive number.\n"
          ]
        }
      ]
    },
    {
      "cell_type": "code",
      "source": [
        "#12.Write a for loop to print numbers from 1 to 10.\n",
        "\n",
        "for i in range(1, 11):\n",
        "    print(i)\n"
      ],
      "metadata": {
        "colab": {
          "base_uri": "https://localhost:8080/"
        },
        "id": "VMU3t-eTz6p3",
        "outputId": "17cdb5ce-5651-47a5-a59e-4d38b3462d0c"
      },
      "execution_count": 25,
      "outputs": [
        {
          "output_type": "stream",
          "name": "stdout",
          "text": [
            "1\n",
            "2\n",
            "3\n",
            "4\n",
            "5\n",
            "6\n",
            "7\n",
            "8\n",
            "9\n",
            "10\n"
          ]
        }
      ]
    },
    {
      "cell_type": "code",
      "source": [
        "#13.Write a Python program to find the sum of all even numbers between 1 and 50.\n",
        "\n",
        "sum_of_even_numbers = 0\n",
        "\n",
        "for num in range(1, 51):\n",
        "    if num % 2 == 0:\n",
        "        sum_of_even_numbers += num\n",
        "\n",
        "print(\"Sum of all even numbers between 1 and 50:\", sum_of_even_numbers)\n"
      ],
      "metadata": {
        "colab": {
          "base_uri": "https://localhost:8080/"
        },
        "id": "mUjMKsob0d_X",
        "outputId": "5ef6bdbf-a09c-4490-f7cc-dedb7dbbc4b0"
      },
      "execution_count": 26,
      "outputs": [
        {
          "output_type": "stream",
          "name": "stdout",
          "text": [
            "Sum of all even numbers between 1 and 50: 650\n"
          ]
        }
      ]
    },
    {
      "cell_type": "code",
      "source": [
        "#14.Write a program to reverse a string using a while loop.\n",
        "\n",
        "\n",
        "string = input(\"Enter a string: \")\n",
        "\n",
        "reversed_string = \"\"\n",
        "\n",
        "index = len(string) - 1\n",
        "\n",
        "while index >= 0:\n",
        "    reversed_string += string[index]\n",
        "    index -= 1\n",
        "\n",
        "print(\"Reversed string:\", reversed_string)\n",
        "\n"
      ],
      "metadata": {
        "colab": {
          "base_uri": "https://localhost:8080/"
        },
        "id": "VzJesuFg0xuz",
        "outputId": "670a8729-27fe-4393-e7de-7700e7681855"
      },
      "execution_count": 27,
      "outputs": [
        {
          "output_type": "stream",
          "name": "stdout",
          "text": [
            "Enter a string: Vishnu\n",
            "Reversed string: unhsiV\n"
          ]
        }
      ]
    },
    {
      "cell_type": "code",
      "source": [
        "#15. Write a Python program to calculate the factorial of a number provided by the user using a while loop.\n",
        "\n",
        "num = int(input(\"Enter a number to calculate its factorial: \"))\n",
        "\n",
        "factorial = 1\n",
        "\n",
        "if num < 0:\n",
        "    print(\"Factorial is not defined for negative numbers.\")\n",
        "elif num == 0:\n",
        "    print(\"The factorial of 0 is 1.\")\n",
        "else:\n",
        "\n",
        "    while num > 0:\n",
        "        factorial *= num\n",
        "        num -= 1\n",
        "\n",
        "    print(f\"The factorial is: {factorial}\")\n"
      ],
      "metadata": {
        "colab": {
          "base_uri": "https://localhost:8080/"
        },
        "id": "9PfKZumN1CMj",
        "outputId": "6322beb2-7298-4cdb-fb34-baed433efe90"
      },
      "execution_count": 28,
      "outputs": [
        {
          "output_type": "stream",
          "name": "stdout",
          "text": [
            "Enter a number to calculate its factorial: 6\n",
            "The factorial is: 720\n"
          ]
        }
      ]
    },
    {
      "cell_type": "code",
      "source": [],
      "metadata": {
        "id": "ZsAag0rL1aqB"
      },
      "execution_count": null,
      "outputs": []
    }
  ]
}